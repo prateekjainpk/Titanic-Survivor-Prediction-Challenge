{
  "nbformat": 4,
  "nbformat_minor": 0,
  "metadata": {
    "colab": {
      "name": "Titanic_Challenge.ipynb",
      "provenance": [],
      "collapsed_sections": []
    },
    "kernelspec": {
      "name": "python3",
      "display_name": "Python 3"
    }
  },
  "cells": [
    {
      "cell_type": "markdown",
      "metadata": {
        "id": "xZrQ15dsDw8i",
        "colab_type": "text"
      },
      "source": [
        "### Decision Trees\n",
        "##### *Problem :* Titanic Survivor Prediction Kaggle Challenege"
      ]
    },
    {
      "cell_type": "markdown",
      "metadata": {
        "id": "-0LcP-NBF1FF",
        "colab_type": "text"
      },
      "source": [
        "### Learning Goals\n",
        "#### How to pre-process data ?\n",
        "- Dropping not useful features\n",
        "- Filling the missing values(Data Imputation)\n",
        "#### Creating a Binary Decision Tree from Scratch"
      ]
    },
    {
      "cell_type": "code",
      "metadata": {
        "id": "1NHkQJBVD8h9",
        "colab_type": "code",
        "colab": {}
      },
      "source": [
        "import numpy as np\n",
        "import pandas as pd"
      ],
      "execution_count": 0,
      "outputs": []
    },
    {
      "cell_type": "code",
      "metadata": {
        "id": "CJaSrhc0EDYn",
        "colab_type": "code",
        "colab": {}
      },
      "source": [
        "data = pd.read_csv(\"/content/drive/My Drive/Colab Notebooks/Data Science/My Work/Decision Trees/titanic/train.csv\")"
      ],
      "execution_count": 0,
      "outputs": []
    },
    {
      "cell_type": "code",
      "metadata": {
        "id": "n4x3fcTREnr6",
        "colab_type": "code",
        "outputId": "1f527441-3e73-4397-c49d-5d392215544c",
        "colab": {
          "base_uri": "https://localhost:8080/",
          "height": 202
        }
      },
      "source": [
        "data.head(5)"
      ],
      "execution_count": 0,
      "outputs": [
        {
          "output_type": "execute_result",
          "data": {
            "text/html": [
              "<div>\n",
              "<style scoped>\n",
              "    .dataframe tbody tr th:only-of-type {\n",
              "        vertical-align: middle;\n",
              "    }\n",
              "\n",
              "    .dataframe tbody tr th {\n",
              "        vertical-align: top;\n",
              "    }\n",
              "\n",
              "    .dataframe thead th {\n",
              "        text-align: right;\n",
              "    }\n",
              "</style>\n",
              "<table border=\"1\" class=\"dataframe\">\n",
              "  <thead>\n",
              "    <tr style=\"text-align: right;\">\n",
              "      <th></th>\n",
              "      <th>PassengerId</th>\n",
              "      <th>Survived</th>\n",
              "      <th>Pclass</th>\n",
              "      <th>Name</th>\n",
              "      <th>Sex</th>\n",
              "      <th>Age</th>\n",
              "      <th>SibSp</th>\n",
              "      <th>Parch</th>\n",
              "      <th>Ticket</th>\n",
              "      <th>Fare</th>\n",
              "      <th>Cabin</th>\n",
              "      <th>Embarked</th>\n",
              "    </tr>\n",
              "  </thead>\n",
              "  <tbody>\n",
              "    <tr>\n",
              "      <th>0</th>\n",
              "      <td>1</td>\n",
              "      <td>0</td>\n",
              "      <td>3</td>\n",
              "      <td>Braund, Mr. Owen Harris</td>\n",
              "      <td>male</td>\n",
              "      <td>22.0</td>\n",
              "      <td>1</td>\n",
              "      <td>0</td>\n",
              "      <td>A/5 21171</td>\n",
              "      <td>7.2500</td>\n",
              "      <td>NaN</td>\n",
              "      <td>S</td>\n",
              "    </tr>\n",
              "    <tr>\n",
              "      <th>1</th>\n",
              "      <td>2</td>\n",
              "      <td>1</td>\n",
              "      <td>1</td>\n",
              "      <td>Cumings, Mrs. John Bradley (Florence Briggs Th...</td>\n",
              "      <td>female</td>\n",
              "      <td>38.0</td>\n",
              "      <td>1</td>\n",
              "      <td>0</td>\n",
              "      <td>PC 17599</td>\n",
              "      <td>71.2833</td>\n",
              "      <td>C85</td>\n",
              "      <td>C</td>\n",
              "    </tr>\n",
              "    <tr>\n",
              "      <th>2</th>\n",
              "      <td>3</td>\n",
              "      <td>1</td>\n",
              "      <td>3</td>\n",
              "      <td>Heikkinen, Miss. Laina</td>\n",
              "      <td>female</td>\n",
              "      <td>26.0</td>\n",
              "      <td>0</td>\n",
              "      <td>0</td>\n",
              "      <td>STON/O2. 3101282</td>\n",
              "      <td>7.9250</td>\n",
              "      <td>NaN</td>\n",
              "      <td>S</td>\n",
              "    </tr>\n",
              "    <tr>\n",
              "      <th>3</th>\n",
              "      <td>4</td>\n",
              "      <td>1</td>\n",
              "      <td>1</td>\n",
              "      <td>Futrelle, Mrs. Jacques Heath (Lily May Peel)</td>\n",
              "      <td>female</td>\n",
              "      <td>35.0</td>\n",
              "      <td>1</td>\n",
              "      <td>0</td>\n",
              "      <td>113803</td>\n",
              "      <td>53.1000</td>\n",
              "      <td>C123</td>\n",
              "      <td>S</td>\n",
              "    </tr>\n",
              "    <tr>\n",
              "      <th>4</th>\n",
              "      <td>5</td>\n",
              "      <td>0</td>\n",
              "      <td>3</td>\n",
              "      <td>Allen, Mr. William Henry</td>\n",
              "      <td>male</td>\n",
              "      <td>35.0</td>\n",
              "      <td>0</td>\n",
              "      <td>0</td>\n",
              "      <td>373450</td>\n",
              "      <td>8.0500</td>\n",
              "      <td>NaN</td>\n",
              "      <td>S</td>\n",
              "    </tr>\n",
              "  </tbody>\n",
              "</table>\n",
              "</div>"
            ],
            "text/plain": [
              "   PassengerId  Survived  Pclass  ...     Fare Cabin  Embarked\n",
              "0            1         0       3  ...   7.2500   NaN         S\n",
              "1            2         1       1  ...  71.2833   C85         C\n",
              "2            3         1       3  ...   7.9250   NaN         S\n",
              "3            4         1       1  ...  53.1000  C123         S\n",
              "4            5         0       3  ...   8.0500   NaN         S\n",
              "\n",
              "[5 rows x 12 columns]"
            ]
          },
          "metadata": {
            "tags": []
          },
          "execution_count": 3
        }
      ]
    },
    {
      "cell_type": "code",
      "metadata": {
        "id": "7tgUnPdIFIsX",
        "colab_type": "code",
        "outputId": "e1a54b17-f590-444d-d761-06731fa13b15",
        "colab": {
          "base_uri": "https://localhost:8080/",
          "height": 346
        }
      },
      "source": [
        "data.info()"
      ],
      "execution_count": 0,
      "outputs": [
        {
          "output_type": "stream",
          "text": [
            "<class 'pandas.core.frame.DataFrame'>\n",
            "RangeIndex: 891 entries, 0 to 890\n",
            "Data columns (total 12 columns):\n",
            " #   Column       Non-Null Count  Dtype  \n",
            "---  ------       --------------  -----  \n",
            " 0   PassengerId  891 non-null    int64  \n",
            " 1   Survived     891 non-null    int64  \n",
            " 2   Pclass       891 non-null    int64  \n",
            " 3   Name         891 non-null    object \n",
            " 4   Sex          891 non-null    object \n",
            " 5   Age          714 non-null    float64\n",
            " 6   SibSp        891 non-null    int64  \n",
            " 7   Parch        891 non-null    int64  \n",
            " 8   Ticket       891 non-null    object \n",
            " 9   Fare         891 non-null    float64\n",
            " 10  Cabin        204 non-null    object \n",
            " 11  Embarked     889 non-null    object \n",
            "dtypes: float64(2), int64(5), object(5)\n",
            "memory usage: 83.7+ KB\n"
          ],
          "name": "stdout"
        }
      ]
    },
    {
      "cell_type": "code",
      "metadata": {
        "id": "DUKRsfNtFRym",
        "colab_type": "code",
        "colab": {}
      },
      "source": [
        "columns_to_drop = [\"PassengerId\",\"Name\",\"Ticket\",\"Cabin\",\"Embarked\"]\n",
        "data_clean = data.drop(columns_to_drop, axis=1)"
      ],
      "execution_count": 0,
      "outputs": []
    },
    {
      "cell_type": "code",
      "metadata": {
        "id": "6ofaLEKMGRkf",
        "colab_type": "code",
        "outputId": "7a2b4652-c279-47d9-b701-ecf464321326",
        "colab": {
          "base_uri": "https://localhost:8080/",
          "height": 202
        }
      },
      "source": [
        "data_clean.head(5)"
      ],
      "execution_count": 0,
      "outputs": [
        {
          "output_type": "execute_result",
          "data": {
            "text/html": [
              "<div>\n",
              "<style scoped>\n",
              "    .dataframe tbody tr th:only-of-type {\n",
              "        vertical-align: middle;\n",
              "    }\n",
              "\n",
              "    .dataframe tbody tr th {\n",
              "        vertical-align: top;\n",
              "    }\n",
              "\n",
              "    .dataframe thead th {\n",
              "        text-align: right;\n",
              "    }\n",
              "</style>\n",
              "<table border=\"1\" class=\"dataframe\">\n",
              "  <thead>\n",
              "    <tr style=\"text-align: right;\">\n",
              "      <th></th>\n",
              "      <th>Survived</th>\n",
              "      <th>Pclass</th>\n",
              "      <th>Sex</th>\n",
              "      <th>Age</th>\n",
              "      <th>SibSp</th>\n",
              "      <th>Parch</th>\n",
              "      <th>Fare</th>\n",
              "    </tr>\n",
              "  </thead>\n",
              "  <tbody>\n",
              "    <tr>\n",
              "      <th>0</th>\n",
              "      <td>0</td>\n",
              "      <td>3</td>\n",
              "      <td>male</td>\n",
              "      <td>22.0</td>\n",
              "      <td>1</td>\n",
              "      <td>0</td>\n",
              "      <td>7.2500</td>\n",
              "    </tr>\n",
              "    <tr>\n",
              "      <th>1</th>\n",
              "      <td>1</td>\n",
              "      <td>1</td>\n",
              "      <td>female</td>\n",
              "      <td>38.0</td>\n",
              "      <td>1</td>\n",
              "      <td>0</td>\n",
              "      <td>71.2833</td>\n",
              "    </tr>\n",
              "    <tr>\n",
              "      <th>2</th>\n",
              "      <td>1</td>\n",
              "      <td>3</td>\n",
              "      <td>female</td>\n",
              "      <td>26.0</td>\n",
              "      <td>0</td>\n",
              "      <td>0</td>\n",
              "      <td>7.9250</td>\n",
              "    </tr>\n",
              "    <tr>\n",
              "      <th>3</th>\n",
              "      <td>1</td>\n",
              "      <td>1</td>\n",
              "      <td>female</td>\n",
              "      <td>35.0</td>\n",
              "      <td>1</td>\n",
              "      <td>0</td>\n",
              "      <td>53.1000</td>\n",
              "    </tr>\n",
              "    <tr>\n",
              "      <th>4</th>\n",
              "      <td>0</td>\n",
              "      <td>3</td>\n",
              "      <td>male</td>\n",
              "      <td>35.0</td>\n",
              "      <td>0</td>\n",
              "      <td>0</td>\n",
              "      <td>8.0500</td>\n",
              "    </tr>\n",
              "  </tbody>\n",
              "</table>\n",
              "</div>"
            ],
            "text/plain": [
              "   Survived  Pclass     Sex   Age  SibSp  Parch     Fare\n",
              "0         0       3    male  22.0      1      0   7.2500\n",
              "1         1       1  female  38.0      1      0  71.2833\n",
              "2         1       3  female  26.0      0      0   7.9250\n",
              "3         1       1  female  35.0      1      0  53.1000\n",
              "4         0       3    male  35.0      0      0   8.0500"
            ]
          },
          "metadata": {
            "tags": []
          },
          "execution_count": 6
        }
      ]
    },
    {
      "cell_type": "code",
      "metadata": {
        "id": "5L3ifHdqGf6M",
        "colab_type": "code",
        "colab": {}
      },
      "source": [
        "from sklearn.preprocessing import LabelEncoder\n",
        "\n",
        "le = LabelEncoder()\n",
        "data_clean[\"Sex\"] = le.fit_transform(data_clean[\"Sex\"])"
      ],
      "execution_count": 0,
      "outputs": []
    },
    {
      "cell_type": "code",
      "metadata": {
        "id": "cAusAHAJGxaj",
        "colab_type": "code",
        "outputId": "66faac13-bcf9-4534-b699-69c2ef82f453",
        "colab": {
          "base_uri": "https://localhost:8080/",
          "height": 202
        }
      },
      "source": [
        "data_clean.head(5)"
      ],
      "execution_count": 0,
      "outputs": [
        {
          "output_type": "execute_result",
          "data": {
            "text/html": [
              "<div>\n",
              "<style scoped>\n",
              "    .dataframe tbody tr th:only-of-type {\n",
              "        vertical-align: middle;\n",
              "    }\n",
              "\n",
              "    .dataframe tbody tr th {\n",
              "        vertical-align: top;\n",
              "    }\n",
              "\n",
              "    .dataframe thead th {\n",
              "        text-align: right;\n",
              "    }\n",
              "</style>\n",
              "<table border=\"1\" class=\"dataframe\">\n",
              "  <thead>\n",
              "    <tr style=\"text-align: right;\">\n",
              "      <th></th>\n",
              "      <th>Survived</th>\n",
              "      <th>Pclass</th>\n",
              "      <th>Sex</th>\n",
              "      <th>Age</th>\n",
              "      <th>SibSp</th>\n",
              "      <th>Parch</th>\n",
              "      <th>Fare</th>\n",
              "    </tr>\n",
              "  </thead>\n",
              "  <tbody>\n",
              "    <tr>\n",
              "      <th>0</th>\n",
              "      <td>0</td>\n",
              "      <td>3</td>\n",
              "      <td>1</td>\n",
              "      <td>22.0</td>\n",
              "      <td>1</td>\n",
              "      <td>0</td>\n",
              "      <td>7.2500</td>\n",
              "    </tr>\n",
              "    <tr>\n",
              "      <th>1</th>\n",
              "      <td>1</td>\n",
              "      <td>1</td>\n",
              "      <td>0</td>\n",
              "      <td>38.0</td>\n",
              "      <td>1</td>\n",
              "      <td>0</td>\n",
              "      <td>71.2833</td>\n",
              "    </tr>\n",
              "    <tr>\n",
              "      <th>2</th>\n",
              "      <td>1</td>\n",
              "      <td>3</td>\n",
              "      <td>0</td>\n",
              "      <td>26.0</td>\n",
              "      <td>0</td>\n",
              "      <td>0</td>\n",
              "      <td>7.9250</td>\n",
              "    </tr>\n",
              "    <tr>\n",
              "      <th>3</th>\n",
              "      <td>1</td>\n",
              "      <td>1</td>\n",
              "      <td>0</td>\n",
              "      <td>35.0</td>\n",
              "      <td>1</td>\n",
              "      <td>0</td>\n",
              "      <td>53.1000</td>\n",
              "    </tr>\n",
              "    <tr>\n",
              "      <th>4</th>\n",
              "      <td>0</td>\n",
              "      <td>3</td>\n",
              "      <td>1</td>\n",
              "      <td>35.0</td>\n",
              "      <td>0</td>\n",
              "      <td>0</td>\n",
              "      <td>8.0500</td>\n",
              "    </tr>\n",
              "  </tbody>\n",
              "</table>\n",
              "</div>"
            ],
            "text/plain": [
              "   Survived  Pclass  Sex   Age  SibSp  Parch     Fare\n",
              "0         0       3    1  22.0      1      0   7.2500\n",
              "1         1       1    0  38.0      1      0  71.2833\n",
              "2         1       3    0  26.0      0      0   7.9250\n",
              "3         1       1    0  35.0      1      0  53.1000\n",
              "4         0       3    1  35.0      0      0   8.0500"
            ]
          },
          "metadata": {
            "tags": []
          },
          "execution_count": 8
        }
      ]
    },
    {
      "cell_type": "code",
      "metadata": {
        "id": "J07GloZ9G3mh",
        "colab_type": "code",
        "outputId": "924c4f56-34ee-48f6-92fa-1e98c94f1145",
        "colab": {
          "base_uri": "https://localhost:8080/",
          "height": 260
        }
      },
      "source": [
        "data_clean.info()"
      ],
      "execution_count": 0,
      "outputs": [
        {
          "output_type": "stream",
          "text": [
            "<class 'pandas.core.frame.DataFrame'>\n",
            "RangeIndex: 891 entries, 0 to 890\n",
            "Data columns (total 7 columns):\n",
            " #   Column    Non-Null Count  Dtype  \n",
            "---  ------    --------------  -----  \n",
            " 0   Survived  891 non-null    int64  \n",
            " 1   Pclass    891 non-null    int64  \n",
            " 2   Sex       891 non-null    int64  \n",
            " 3   Age       714 non-null    float64\n",
            " 4   SibSp     891 non-null    int64  \n",
            " 5   Parch     891 non-null    int64  \n",
            " 6   Fare      891 non-null    float64\n",
            "dtypes: float64(2), int64(5)\n",
            "memory usage: 48.9 KB\n"
          ],
          "name": "stdout"
        }
      ]
    },
    {
      "cell_type": "code",
      "metadata": {
        "id": "yCOaK927G76E",
        "colab_type": "code",
        "outputId": "ac3fbc33-fbe3-46f0-cf69-c8b49aac60c8",
        "colab": {
          "base_uri": "https://localhost:8080/",
          "height": 260
        }
      },
      "source": [
        "data_clean = data_clean.fillna(data_clean[\"Age\"].mean())\n",
        "data_clean.info()"
      ],
      "execution_count": 0,
      "outputs": [
        {
          "output_type": "stream",
          "text": [
            "<class 'pandas.core.frame.DataFrame'>\n",
            "RangeIndex: 891 entries, 0 to 890\n",
            "Data columns (total 7 columns):\n",
            " #   Column    Non-Null Count  Dtype  \n",
            "---  ------    --------------  -----  \n",
            " 0   Survived  891 non-null    int64  \n",
            " 1   Pclass    891 non-null    int64  \n",
            " 2   Sex       891 non-null    int64  \n",
            " 3   Age       891 non-null    float64\n",
            " 4   SibSp     891 non-null    int64  \n",
            " 5   Parch     891 non-null    int64  \n",
            " 6   Fare      891 non-null    float64\n",
            "dtypes: float64(2), int64(5)\n",
            "memory usage: 48.9 KB\n"
          ],
          "name": "stdout"
        }
      ]
    },
    {
      "cell_type": "code",
      "metadata": {
        "id": "6-KkwlfdHJud",
        "colab_type": "code",
        "outputId": "4057c33a-1f07-4533-e39c-d668e3816fb5",
        "colab": {
          "base_uri": "https://localhost:8080/",
          "height": 156
        }
      },
      "source": [
        "data_clean.loc[1]"
      ],
      "execution_count": 0,
      "outputs": [
        {
          "output_type": "execute_result",
          "data": {
            "text/plain": [
              "Survived     1.0000\n",
              "Pclass       1.0000\n",
              "Sex          0.0000\n",
              "Age         38.0000\n",
              "SibSp        1.0000\n",
              "Parch        0.0000\n",
              "Fare        71.2833\n",
              "Name: 1, dtype: float64"
            ]
          },
          "metadata": {
            "tags": []
          },
          "execution_count": 11
        }
      ]
    },
    {
      "cell_type": "code",
      "metadata": {
        "id": "OMDUPPcYHRmI",
        "colab_type": "code",
        "outputId": "81affc6c-0890-4b7c-ee99-3195c8008e59",
        "colab": {
          "base_uri": "https://localhost:8080/",
          "height": 52
        }
      },
      "source": [
        "input_cols = [\"Pclass\",\"Sex\",\"Age\",\"SibSp\",\"Parch\",\"Fare\"]\n",
        "output_cols = [\"Survived\"]\n",
        "\n",
        "X = data_clean[input_cols]\n",
        "Y = data_clean[output_cols]\n",
        "\n",
        "print(X.shape,Y.shape)\n",
        "print(type(X))"
      ],
      "execution_count": 0,
      "outputs": [
        {
          "output_type": "stream",
          "text": [
            "(891, 6) (891, 1)\n",
            "<class 'pandas.core.frame.DataFrame'>\n"
          ],
          "name": "stdout"
        }
      ]
    },
    {
      "cell_type": "markdown",
      "metadata": {
        "id": "eIoFXJz2IJlV",
        "colab_type": "text"
      },
      "source": [
        "#### Defining Entropy and Information Gain"
      ]
    },
    {
      "cell_type": "code",
      "metadata": {
        "id": "AxM-CJLDHttT",
        "colab_type": "code",
        "colab": {}
      },
      "source": [
        "def entropy(col):\n",
        "\n",
        "  counts = np.unique(col,return_counts=True)\n",
        "  N = float(col.shape[0])\n",
        "\n",
        "  ent  = 0.0 \n",
        "\n",
        "  for ix in counts[1]:\n",
        "    p = ix/N\n",
        "    ent += (-1.0*p*np.log2(p))\n",
        "\n",
        "  return ent"
      ],
      "execution_count": 0,
      "outputs": []
    },
    {
      "cell_type": "code",
      "metadata": {
        "id": "8wS6SfZzvU6t",
        "colab_type": "code",
        "outputId": "651a87c6-7834-420a-d5ce-b96b0f60b443",
        "colab": {
          "base_uri": "https://localhost:8080/",
          "height": 34
        }
      },
      "source": [
        "col = np.array([1,1,1,0,0,0,1,0])\n",
        "entropy(col)"
      ],
      "execution_count": 0,
      "outputs": [
        {
          "output_type": "execute_result",
          "data": {
            "text/plain": [
              "1.0"
            ]
          },
          "metadata": {
            "tags": []
          },
          "execution_count": 14
        }
      ]
    },
    {
      "cell_type": "code",
      "metadata": {
        "id": "OhzNq5DKwAfW",
        "colab_type": "code",
        "colab": {}
      },
      "source": [
        "def divide_data(x_data,fkey,fval):\n",
        "    #Work with Pandas Data Frames\n",
        "    x_right = pd.DataFrame([],columns=x_data.columns)\n",
        "    x_left = pd.DataFrame([],columns=x_data.columns)\n",
        "    \n",
        "    for ix in range(x_data.shape[0]):\n",
        "        val = x_data[fkey].loc[ix]\n",
        "        \n",
        "        if val > fval:\n",
        "            x_right = x_right.append(x_data.loc[ix])\n",
        "        else:\n",
        "            x_left = x_left.append(x_data.loc[ix])\n",
        "            \n",
        "    return x_left,x_right\n"
      ],
      "execution_count": 0,
      "outputs": []
    },
    {
      "cell_type": "code",
      "metadata": {
        "id": "e_vNdtSFvq6A",
        "colab_type": "code",
        "colab": {}
      },
      "source": [
        "def information_gain(x_data,fkey,fval):\n",
        "    \n",
        "    left,right = divide_data(x_data,fkey,fval)\n",
        "    \n",
        "    #% of total samples are on left and right\n",
        "    l = float(left.shape[0])/x_data.shape[0]\n",
        "    r = float(right.shape[0])/x_data.shape[0]\n",
        "    \n",
        "    #All examples come to one side!\n",
        "    if left.shape[0] == 0 or right.shape[0] ==0:\n",
        "        return -1000000 #Min Information Gain\n",
        "    \n",
        "    i_gain = entropy(x_data.Survived) - (l*entropy(left.Survived)+r*entropy(right.Survived))\n",
        "    return i_gain\n"
      ],
      "execution_count": 0,
      "outputs": []
    },
    {
      "cell_type": "code",
      "metadata": {
        "id": "BP6TMVZB1r16",
        "colab_type": "code",
        "outputId": "c567ceb7-f718-4de3-e2d2-b62f9bdf37a3",
        "colab": {
          "base_uri": "https://localhost:8080/",
          "height": 225
        }
      },
      "source": [
        "# Test our function\n",
        "for fx in X.columns:\n",
        "    print(fx)\n",
        "    print(information_gain(data_clean,fx,data_clean[fx].mean()))"
      ],
      "execution_count": 0,
      "outputs": [
        {
          "output_type": "stream",
          "text": [
            "Pclass\n",
            "0.07579362743608165\n",
            "Sex\n",
            "0.2176601066606142\n",
            "Age\n",
            "0.001158644038169343\n",
            "SibSp\n",
            "0.009584541813400071\n",
            "Parch\n",
            "0.015380754493137916\n",
            "Fare\n",
            "0.042140692838995464\n"
          ],
          "name": "stdout"
        }
      ]
    },
    {
      "cell_type": "code",
      "metadata": {
        "id": "3C4wLljF1tig",
        "colab_type": "code",
        "colab": {}
      },
      "source": [
        "class DecisionTree:\n",
        "    \n",
        "    #Constructor\n",
        "    def __init__(self,depth=0,max_depth=5):\n",
        "        self.left = None\n",
        "        self.right = None\n",
        "        self.fkey = None\n",
        "        self.fval = None\n",
        "        self.max_depth = max_depth\n",
        "        self.depth = depth\n",
        "        self.target = None\n",
        "        \n",
        "    def train(self,X_train):\n",
        "        \n",
        "        features = ['Pclass','Sex','Age','SibSp', 'Parch', 'Fare']\n",
        "        info_gains = []\n",
        "        \n",
        "        for ix in features:\n",
        "            i_gain = information_gain(X_train,ix,X_train[ix].mean())\n",
        "            info_gains.append(i_gain)\n",
        "            \n",
        "        self.fkey = features[np.argmax(info_gains)]\n",
        "        self.fval = X_train[self.fkey].mean()\n",
        "        print(\"Making Tree Features is\",self.fkey)\n",
        "        \n",
        "        #Split Data\n",
        "        data_left,data_right = divide_data(X_train,self.fkey,self.fval)\n",
        "        data_left = data_left.reset_index(drop=True)\n",
        "        data_right = data_right.reset_index(drop=True)\n",
        "         \n",
        "        #Truly a left node\n",
        "        if data_left.shape[0]  == 0 or data_right.shape[0] ==0:\n",
        "            if X_train.Survived.mean() >= 0.5:\n",
        "                self.target = \"Survive\"\n",
        "            else:\n",
        "                self.target = \"Dead\"\n",
        "            return\n",
        "        #Stop earyly when depth >=max depth\n",
        "        if(self.depth>=self.max_depth):\n",
        "            if X_train.Survived.mean() >= 0.5:\n",
        "                self.target = \"Survive\"\n",
        "            else:\n",
        "                self.target = \"Dead\"\n",
        "            return\n",
        "        \n",
        "        #Recursive Case\n",
        "        self.left = DecisionTree(depth=self.depth+1,max_depth=self.max_depth)\n",
        "        self.left.train(data_left)\n",
        "        \n",
        "        self.right = DecisionTree(depth=self.depth+1,max_depth=self.max_depth)\n",
        "        self.right.train(data_right)\n",
        "        \n",
        "        #You can set the target at every node\n",
        "        if X_train.Survived.mean() >= 0.5:\n",
        "            self.target = \"Survive\"\n",
        "        else:\n",
        "            self.target = \"Dead\"\n",
        "        return\n",
        "\n",
        "    def predict(self,test):\n",
        "\n",
        "      if test[self.fkey] > self.fval:\n",
        "        #go to right\n",
        "        if self.right is None:\n",
        "          return self.target\n",
        "        return self.right.predict(test)\n",
        "      else:\n",
        "        if self.left is None:\n",
        "          return self.target\n",
        "        return self.left.predict(test)\n",
        "          "
      ],
      "execution_count": 0,
      "outputs": []
    },
    {
      "cell_type": "code",
      "metadata": {
        "id": "E8X0VrZAruEY",
        "colab_type": "code",
        "outputId": "8c1261a8-df04-4dc2-df4c-367b87620d42",
        "colab": {
          "base_uri": "https://localhost:8080/",
          "height": 1000
        }
      },
      "source": [
        "d = DecisionTree()\n",
        "#d.train(data_clean)"
      ],
      "execution_count": 0,
      "outputs": [
        {
          "output_type": "stream",
          "text": [
            "Making Tree Features is Sex\n",
            "Making Tree Features is Pclass\n",
            "Making Tree Features is Pclass\n",
            "Making Tree Features is Parch\n",
            "Making Tree Features is Age\n",
            "Making Tree Features is Age\n",
            "Making Tree Features is Age\n",
            "Making Tree Features is Parch\n",
            "Making Tree Features is Age\n",
            "Making Tree Features is Fare\n",
            "Making Tree Features is Parch\n",
            "Making Tree Features is Age\n",
            "Making Tree Features is Age\n",
            "Making Tree Features is Age\n",
            "Making Tree Features is Age\n",
            "Making Tree Features is Age\n",
            "Making Tree Features is Age\n",
            "Making Tree Features is Fare\n",
            "Making Tree Features is SibSp\n",
            "Making Tree Features is Fare\n",
            "Making Tree Features is Fare\n",
            "Making Tree Features is Age\n",
            "Making Tree Features is SibSp\n",
            "Making Tree Features is Parch\n",
            "Making Tree Features is Age\n",
            "Making Tree Features is SibSp\n",
            "Making Tree Features is Fare\n",
            "Making Tree Features is Parch\n",
            "Making Tree Features is Parch\n",
            "Making Tree Features is Age\n",
            "Making Tree Features is Age\n",
            "Making Tree Features is Age\n",
            "Making Tree Features is Fare\n",
            "Making Tree Features is Parch\n",
            "Making Tree Features is Pclass\n",
            "Making Tree Features is Pclass\n",
            "Making Tree Features is Age\n",
            "Making Tree Features is SibSp\n",
            "Making Tree Features is Age\n",
            "Making Tree Features is Age\n",
            "Making Tree Features is Age\n",
            "Making Tree Features is Age\n",
            "Making Tree Features is Age\n",
            "Making Tree Features is SibSp\n",
            "Making Tree Features is Age\n",
            "Making Tree Features is Age\n",
            "Making Tree Features is Fare\n",
            "Making Tree Features is Age\n",
            "Making Tree Features is Pclass\n",
            "Making Tree Features is Age\n",
            "Making Tree Features is Age\n",
            "Making Tree Features is Fare\n",
            "Making Tree Features is Age\n",
            "Making Tree Features is Age\n",
            "Making Tree Features is Parch\n",
            "Making Tree Features is SibSp\n",
            "Making Tree Features is SibSp\n",
            "Making Tree Features is Pclass\n",
            "Making Tree Features is Parch\n",
            "Making Tree Features is SibSp\n",
            "Making Tree Features is Parch\n",
            "Making Tree Features is Age\n",
            "Making Tree Features is Age\n"
          ],
          "name": "stdout"
        }
      ]
    },
    {
      "cell_type": "markdown",
      "metadata": {
        "id": "lZgm3UIjwYQW",
        "colab_type": "text"
      },
      "source": [
        "### Train-Validation-Test Set Split"
      ]
    },
    {
      "cell_type": "code",
      "metadata": {
        "id": "geo20nelr9Sb",
        "colab_type": "code",
        "colab": {}
      },
      "source": [
        "split = int(0.7*data_clean.shape[0])\n",
        "train_data = data_clean[:split]\n",
        "test_data = data_clean[split:]\n",
        "test_data = test_data.reset_index(drop=True)"
      ],
      "execution_count": 0,
      "outputs": []
    },
    {
      "cell_type": "code",
      "metadata": {
        "id": "pzhuE8G5xEPm",
        "colab_type": "code",
        "outputId": "4b9fb488-552d-406c-bd29-af0ce978a031",
        "colab": {
          "base_uri": "https://localhost:8080/",
          "height": 34
        }
      },
      "source": [
        "print(train_data.shape,test_data.shape)"
      ],
      "execution_count": 0,
      "outputs": [
        {
          "output_type": "stream",
          "text": [
            "(623, 7) (268, 7)\n"
          ],
          "name": "stdout"
        }
      ]
    },
    {
      "cell_type": "code",
      "metadata": {
        "id": "QshUBnvzxJCw",
        "colab_type": "code",
        "outputId": "db584ae0-abe0-4771-fadc-d3cf81f07901",
        "colab": {
          "base_uri": "https://localhost:8080/",
          "height": 1000
        }
      },
      "source": [
        "dt =DecisionTree()\n",
        "dt.train(train_data)"
      ],
      "execution_count": 0,
      "outputs": [
        {
          "output_type": "stream",
          "text": [
            "Making Tree Features is Sex\n",
            "Making Tree Features is Pclass\n",
            "Making Tree Features is Age\n",
            "Making Tree Features is SibSp\n",
            "Making Tree Features is Pclass\n",
            "Making Tree Features is Age\n",
            "Making Tree Features is Age\n",
            "Making Tree Features is SibSp\n",
            "Making Tree Features is Parch\n",
            "Making Tree Features is Pclass\n",
            "Making Tree Features is SibSp\n",
            "Making Tree Features is Fare\n",
            "Making Tree Features is Parch\n",
            "Making Tree Features is Age\n",
            "Making Tree Features is Pclass\n",
            "Making Tree Features is Age\n",
            "Making Tree Features is Age\n",
            "Making Tree Features is Parch\n",
            "Making Tree Features is SibSp\n",
            "Making Tree Features is Fare\n",
            "Making Tree Features is Age\n",
            "Making Tree Features is Age\n",
            "Making Tree Features is Fare\n",
            "Making Tree Features is Age\n",
            "Making Tree Features is Age\n",
            "Making Tree Features is Fare\n",
            "Making Tree Features is Age\n",
            "Making Tree Features is Parch\n",
            "Making Tree Features is Fare\n",
            "Making Tree Features is Fare\n",
            "Making Tree Features is Fare\n",
            "Making Tree Features is Age\n",
            "Making Tree Features is Fare\n",
            "Making Tree Features is Parch\n",
            "Making Tree Features is Fare\n",
            "Making Tree Features is Age\n",
            "Making Tree Features is Age\n",
            "Making Tree Features is Fare\n",
            "Making Tree Features is Fare\n",
            "Making Tree Features is SibSp\n",
            "Making Tree Features is Fare\n",
            "Making Tree Features is Age\n",
            "Making Tree Features is Fare\n",
            "Making Tree Features is Pclass\n",
            "Making Tree Features is SibSp\n",
            "Making Tree Features is Age\n",
            "Making Tree Features is Age\n",
            "Making Tree Features is Age\n",
            "Making Tree Features is Pclass\n",
            "Making Tree Features is Age\n",
            "Making Tree Features is SibSp\n",
            "Making Tree Features is Fare\n",
            "Making Tree Features is SibSp\n",
            "Making Tree Features is Age\n",
            "Making Tree Features is Parch\n",
            "Making Tree Features is SibSp\n",
            "Making Tree Features is SibSp\n",
            "Making Tree Features is Age\n",
            "Making Tree Features is Age\n",
            "Making Tree Features is Age\n",
            "Making Tree Features is Parch\n",
            "Making Tree Features is Age\n",
            "Making Tree Features is Age\n"
          ],
          "name": "stdout"
        }
      ]
    },
    {
      "cell_type": "code",
      "metadata": {
        "id": "dkR4-7FjxNYp",
        "colab_type": "code",
        "outputId": "e68e013d-ac8c-4e21-a8c6-e6caf079da6b",
        "colab": {
          "base_uri": "https://localhost:8080/",
          "height": 86
        }
      },
      "source": [
        "print(dt.fkey)\n",
        "print(dt.fval)\n",
        "print(dt.left.fkey)\n",
        "print(dt.right.fval)"
      ],
      "execution_count": 0,
      "outputs": [
        {
          "output_type": "stream",
          "text": [
            "Sex\n",
            "0.6292134831460674\n",
            "Pclass\n",
            "25.149456377551008\n"
          ],
          "name": "stdout"
        }
      ]
    },
    {
      "cell_type": "code",
      "metadata": {
        "id": "CVBg7LdJxmg3",
        "colab_type": "code",
        "colab": {}
      },
      "source": [
        "y_pred = []\n",
        "for ix in range(test_data.shape[0]):\n",
        "  y_pred.append(dt.predict(test_data.loc[ix]))"
      ],
      "execution_count": 0,
      "outputs": []
    },
    {
      "cell_type": "code",
      "metadata": {
        "id": "QfmKMw1txzVo",
        "colab_type": "code",
        "colab": {}
      },
      "source": [
        "y_pred"
      ],
      "execution_count": 0,
      "outputs": []
    },
    {
      "cell_type": "code",
      "metadata": {
        "id": "OC0bLy6wx0HS",
        "colab_type": "code",
        "outputId": "7e891d6b-555f-4e2d-f41a-9537e0e67099",
        "colab": {
          "base_uri": "https://localhost:8080/",
          "height": 260
        }
      },
      "source": [
        "y_actual = test_data[output_cols]\n",
        "print(y_actual)"
      ],
      "execution_count": 0,
      "outputs": [
        {
          "output_type": "stream",
          "text": [
            "     Survived\n",
            "0           0\n",
            "1           0\n",
            "2           0\n",
            "3           0\n",
            "4           1\n",
            "..        ...\n",
            "263         0\n",
            "264         1\n",
            "265         0\n",
            "266         1\n",
            "267         0\n",
            "\n",
            "[268 rows x 1 columns]\n"
          ],
          "name": "stdout"
        }
      ]
    },
    {
      "cell_type": "code",
      "metadata": {
        "id": "2Q5lulD8x9m3",
        "colab_type": "code",
        "colab": {}
      },
      "source": [
        "le = LabelEncoder()\n",
        "y_pred = le.fit_transform(y_pred)"
      ],
      "execution_count": 0,
      "outputs": []
    },
    {
      "cell_type": "code",
      "metadata": {
        "id": "dL2NQEe8yIZ2",
        "colab_type": "code",
        "outputId": "99f99aa7-58d2-4c86-dd27-acde72514385",
        "colab": {
          "base_uri": "https://localhost:8080/",
          "height": 52
        }
      },
      "source": [
        "print(y_pred.shape)\n",
        "print(y_actual.shape)"
      ],
      "execution_count": 0,
      "outputs": [
        {
          "output_type": "stream",
          "text": [
            "(268,)\n",
            "(268, 1)\n"
          ],
          "name": "stdout"
        }
      ]
    },
    {
      "cell_type": "code",
      "metadata": {
        "id": "tX1vLtbXyP9i",
        "colab_type": "code",
        "outputId": "508ce0ad-0497-489c-c3e3-95622650d6cd",
        "colab": {
          "base_uri": "https://localhost:8080/",
          "height": 34
        }
      },
      "source": [
        "y_pred = np.array(y_pred).reshape((-1,1))\n",
        "print(y_pred.shape)"
      ],
      "execution_count": 0,
      "outputs": [
        {
          "output_type": "stream",
          "text": [
            "(268, 1)\n"
          ],
          "name": "stdout"
        }
      ]
    },
    {
      "cell_type": "code",
      "metadata": {
        "id": "8AGiMBOxyZss",
        "colab_type": "code",
        "outputId": "47745456-b334-424f-86b0-23d9ff57fcd1",
        "colab": {
          "base_uri": "https://localhost:8080/",
          "height": 34
        }
      },
      "source": [
        "acc = np.sum(np.array(y_pred)==np.array(y_actual))/y_pred.shape[0]\n",
        "print(acc)"
      ],
      "execution_count": 0,
      "outputs": [
        {
          "output_type": "stream",
          "text": [
            "0.8171641791044776\n"
          ],
          "name": "stdout"
        }
      ]
    }
  ]
}